{
 "cells": [
  {
   "cell_type": "markdown",
   "id": "355542d2",
   "metadata": {},
   "source": [
    "### Instructions:\n",
    "\n",
    "1. Import all the libraries you need in the cell below\n",
    "2. Create as many cells as needed to answer a question\n",
    "  * Group code that is logically related in the same cell\n",
    "  * Keep cells relatively small\n",
    "  * Format long statements or expressions, including `ggplot`, across multiple lines\n",
    "3. Submit your work to Github\n",
    "  * your GitHub repository should be called `week_4_practical`\n",
    "  * This file should be called `week_4_solution.ipynb`\n",
    "    "
   ]
  },
  {
   "cell_type": "code",
   "execution_count": 57,
   "id": "1089e361",
   "metadata": {
    "scrolled": true
   },
   "outputs": [
    {
     "name": "stderr",
     "output_type": "stream",
     "text": [
      "also installing the dependencies ‘isoband’, ‘vroom’, ‘tzdb’, ‘broom’, ‘ggplot2’, ‘haven’, ‘lubridate’, ‘readr’, ‘tidyr’\n",
      "\n",
      "Warning message in install.packages(\"tidyverse\"):\n",
      "“installation of package ‘isoband’ had non-zero exit status”Warning message in install.packages(\"tidyverse\"):\n",
      "“installation of package ‘tzdb’ had non-zero exit status”Warning message in install.packages(\"tidyverse\"):\n",
      "“installation of package ‘lubridate’ had non-zero exit status”Warning message in install.packages(\"tidyverse\"):\n",
      "“installation of package ‘tidyr’ had non-zero exit status”Warning message in install.packages(\"tidyverse\"):\n",
      "“installation of package ‘vroom’ had non-zero exit status”Warning message in install.packages(\"tidyverse\"):\n",
      "“installation of package ‘broom’ had non-zero exit status”Warning message in install.packages(\"tidyverse\"):\n",
      "“installation of package ‘ggplot2’ had non-zero exit status”Warning message in install.packages(\"tidyverse\"):\n",
      "“installation of package ‘readr’ had non-zero exit status”Warning message in install.packages(\"tidyverse\"):\n",
      "“installation of package ‘haven’ had non-zero exit status”Warning message in install.packages(\"tidyverse\"):\n",
      "“installation of package ‘tidyverse’ had non-zero exit status”Updating HTML index of packages in '.Library'\n",
      "Making 'packages.html' ... done\n",
      "\n",
      "Attaching package: ‘tibble’\n",
      "\n",
      "The following object is masked from ‘package:assertthat’:\n",
      "\n",
      "    has_name\n",
      "\n"
     ]
    }
   ],
   "source": [
    "# Write you library imports here. E.g.:\n",
    "# library(ggplot2 )\n",
    "\n",
    "library(assertthat)\n",
    "install.packages(\"tidyverse\")\n",
    "library(tibble)"
   ]
  },
  {
   "cell_type": "code",
   "execution_count": 58,
   "id": "e03390a3",
   "metadata": {},
   "outputs": [],
   "source": [
    "library(tibble)\n"
   ]
  },
  {
   "cell_type": "markdown",
   "id": "9d1f436c",
   "metadata": {},
   "source": [
    "### Q.1\n",
    "\n",
    "* Write a function that manually computes the standard deviation.\n",
    "  * Call your function `sd_x`\n",
    "\n",
    "Recall that the standard deviation is computed as\n",
    "\n",
    "$$\n",
    "\\sigma = \\sqrt{\\frac{\\sum{(x_i - \\mu)^2}}{N-1}}\n",
    "$$\n",
    "\n",
    "* $\\mu$ is simply the mean of the vector of inputs\n",
    "  * it can be computed using the `mean` function\n",
    "\n",
    "\n",
    "For example, given:\n",
    "\n",
    "```x = c(1,2,3)```\n",
    "\n",
    "Since $\\mu = 2$, then $\\sigma = \\sqrt{\\frac{(1-2)^2 + (2-2)^2 + (3-2)^2}{3}} = 1$.\n",
    "\n",
    "* Important: What do you do if this function is called with a single element?\n",
    "  * Recall that we cannot compute the std deviation of a single value\n",
    "\n",
    "* Use `assertthat` to make sure that `sd_x` and `sd` return the same values for 3 test vectors of your choice."
   ]
  },
  {
   "cell_type": "code",
   "execution_count": 13,
   "id": "c84c6a04",
   "metadata": {},
   "outputs": [
    {
     "name": "stdout",
     "output_type": "stream",
     "text": [
      "[1] 2\n"
     ]
    },
    {
     "data": {
      "text/html": [
       "1"
      ],
      "text/latex": [
       "1"
      ],
      "text/markdown": [
       "1"
      ],
      "text/plain": [
       "[1] 1"
      ]
     },
     "metadata": {},
     "output_type": "display_data"
    }
   ],
   "source": [
    "d = c(1,2,3)\n",
    "\n",
    " m = mean(d)\n",
    "print(m)\n",
    "\n",
    "squared =(d-m)^2\n",
    "\n",
    "sum_square=sum(squared)\n",
    "\n",
    "normalize=sum_square/(length(d)-1)\n",
    "\n",
    "sqrt(normalize)\n",
    "\n"
   ]
  },
  {
   "cell_type": "code",
   "execution_count": 15,
   "id": "fa652266",
   "metadata": {},
   "outputs": [],
   "source": [
    "sd_x = function (d){\n",
    "    m = mean(d)\n",
    "   squared =(d-m)^2\n",
    "    sum_square=sum(squared)\n",
    "    normalize=sum_square/(length(d)-1)\n",
    "    sqrt(normalize)\n",
    "}"
   ]
  },
  {
   "cell_type": "code",
   "execution_count": 22,
   "id": "c7b0c757",
   "metadata": {},
   "outputs": [
    {
     "data": {
      "text/html": [
       "1"
      ],
      "text/latex": [
       "1"
      ],
      "text/markdown": [
       "1"
      ],
      "text/plain": [
       "[1] 1"
      ]
     },
     "metadata": {},
     "output_type": "display_data"
    },
    {
     "data": {
      "text/html": [
       "1"
      ],
      "text/latex": [
       "1"
      ],
      "text/markdown": [
       "1"
      ],
      "text/plain": [
       "[1] 1"
      ]
     },
     "metadata": {},
     "output_type": "display_data"
    },
    {
     "data": {
      "text/html": [
       "TRUE"
      ],
      "text/latex": [
       "TRUE"
      ],
      "text/markdown": [
       "TRUE"
      ],
      "text/plain": [
       "[1] TRUE"
      ]
     },
     "metadata": {},
     "output_type": "display_data"
    }
   ],
   "source": [
    "sd(d)\n",
    "sd_x(d)\n",
    "assert_that(sd_x(d) == sd(d))"
   ]
  },
  {
   "cell_type": "markdown",
   "id": "dec09c62",
   "metadata": {},
   "source": [
    "### Q2\n",
    "\n",
    "* In this question, we will build a simulated dataset for healthy and diseased corals.  You will be creating a `tibble` called `coral_health_tbl` that contains 2 columns:\n",
    "\n",
    "1. A column called `coral`. Generate this column by sampling 100 coral species from the following values\n",
    "```R\n",
    "coral_pop = c(\"Montipora capitata\",\n",
    "                 \"Porites compressa\",\n",
    "                 \"Porites lobata\")\n",
    "```\n",
    " * You can use the function `sample` to select 100 values from the vector `coral_pop`\n",
    " \n",
    "2. The second column is called `health_status`.\n",
    "    * it represents 100 randomly selected `TRUE` or `FALSE` values that represent whether the coral is healthy or diseased.\n",
    "    * Healthy corals (`health_status == FALSE`; not diseased) occur with a probability of 0.8 wheras diseased (`health_status == TRUE`) corals occur with a probability of 0.3.\n",
    "    * You can use sample again but modify the `prob` parameter to account for the differet probabilities\n"
   ]
  },
  {
   "cell_type": "code",
   "execution_count": 51,
   "id": "f211f27a",
   "metadata": {
    "scrolled": true
   },
   "outputs": [],
   "source": [
    "# Write you answer here and use more cell if needed\n",
    "\n",
    "coral = data.frame(\"Montipora capitata\", \"Porites compressa\", \"Porites lobata\")\n"
   ]
  },
  {
   "cell_type": "code",
   "execution_count": 52,
   "id": "9c552825",
   "metadata": {},
   "outputs": [],
   "source": [
    "?sample\n"
   ]
  },
  {
   "cell_type": "code",
   "execution_count": 53,
   "id": "3c5368f5",
   "metadata": {},
   "outputs": [],
   "source": [
    "coral_pop =sample(c(\"Montipora capitata\", \"Porites compressa\", \"Porites lobata\"), 100, replace = TRUE)"
   ]
  },
  {
   "cell_type": "code",
   "execution_count": 54,
   "id": "c3d98c82",
   "metadata": {},
   "outputs": [
    {
     "name": "stdout",
     "output_type": "stream",
     "text": [
      "  [1] FALSE FALSE FALSE  TRUE FALSE FALSE  TRUE FALSE  TRUE FALSE FALSE FALSE\n",
      " [13] FALSE  TRUE FALSE FALSE FALSE  TRUE FALSE FALSE FALSE FALSE FALSE  TRUE\n",
      " [25] FALSE  TRUE FALSE  TRUE  TRUE  TRUE FALSE FALSE FALSE FALSE FALSE FALSE\n",
      " [37] FALSE FALSE FALSE  TRUE  TRUE FALSE FALSE FALSE FALSE  TRUE FALSE FALSE\n",
      " [49] FALSE FALSE FALSE FALSE FALSE FALSE FALSE  TRUE  TRUE  TRUE FALSE FALSE\n",
      " [61] FALSE FALSE FALSE FALSE FALSE FALSE FALSE FALSE FALSE  TRUE  TRUE FALSE\n",
      " [73] FALSE FALSE FALSE FALSE FALSE FALSE FALSE FALSE FALSE FALSE FALSE FALSE\n",
      " [85] FALSE FALSE FALSE FALSE FALSE FALSE FALSE FALSE FALSE FALSE FALSE FALSE\n",
      " [97] FALSE FALSE FALSE  TRUE\n"
     ]
    }
   ],
   "source": [
    "health_status = sample (c(TRUE, FALSE), 100, replace = TRUE, prob= c(0.2, 0.8)) \n",
    "print(health_status)"
   ]
  },
  {
   "cell_type": "code",
   "execution_count": 55,
   "id": "c37bfb50",
   "metadata": {},
   "outputs": [
    {
     "name": "stdout",
     "output_type": "stream",
     "text": [
      "             coral_pop health_status\n",
      "1    Porites compressa         FALSE\n",
      "2   Montipora capitata         FALSE\n",
      "3   Montipora capitata         FALSE\n",
      "4    Porites compressa          TRUE\n",
      "5   Montipora capitata         FALSE\n",
      "6    Porites compressa         FALSE\n",
      "7       Porites lobata          TRUE\n",
      "8    Porites compressa         FALSE\n",
      "9       Porites lobata          TRUE\n",
      "10  Montipora capitata         FALSE\n",
      "11      Porites lobata         FALSE\n",
      "12      Porites lobata         FALSE\n",
      "13   Porites compressa         FALSE\n",
      "14      Porites lobata          TRUE\n",
      "15      Porites lobata         FALSE\n",
      "16      Porites lobata         FALSE\n",
      "17  Montipora capitata         FALSE\n",
      "18      Porites lobata          TRUE\n",
      "19      Porites lobata         FALSE\n",
      "20      Porites lobata         FALSE\n",
      "21  Montipora capitata         FALSE\n",
      "22  Montipora capitata         FALSE\n",
      "23   Porites compressa         FALSE\n",
      "24   Porites compressa          TRUE\n",
      "25  Montipora capitata         FALSE\n",
      "26  Montipora capitata          TRUE\n",
      "27      Porites lobata         FALSE\n",
      "28      Porites lobata          TRUE\n",
      "29  Montipora capitata          TRUE\n",
      "30   Porites compressa          TRUE\n",
      "31      Porites lobata         FALSE\n",
      "32      Porites lobata         FALSE\n",
      "33  Montipora capitata         FALSE\n",
      "34      Porites lobata         FALSE\n",
      "35      Porites lobata         FALSE\n",
      "36      Porites lobata         FALSE\n",
      "37  Montipora capitata         FALSE\n",
      "38  Montipora capitata         FALSE\n",
      "39   Porites compressa         FALSE\n",
      "40   Porites compressa          TRUE\n",
      "41   Porites compressa          TRUE\n",
      "42  Montipora capitata         FALSE\n",
      "43   Porites compressa         FALSE\n",
      "44   Porites compressa         FALSE\n",
      "45      Porites lobata         FALSE\n",
      "46  Montipora capitata          TRUE\n",
      "47   Porites compressa         FALSE\n",
      "48      Porites lobata         FALSE\n",
      "49      Porites lobata         FALSE\n",
      "50   Porites compressa         FALSE\n",
      "51      Porites lobata         FALSE\n",
      "52  Montipora capitata         FALSE\n",
      "53      Porites lobata         FALSE\n",
      "54      Porites lobata         FALSE\n",
      "55      Porites lobata         FALSE\n",
      "56      Porites lobata          TRUE\n",
      "57  Montipora capitata          TRUE\n",
      "58   Porites compressa          TRUE\n",
      "59      Porites lobata         FALSE\n",
      "60  Montipora capitata         FALSE\n",
      "61  Montipora capitata         FALSE\n",
      "62      Porites lobata         FALSE\n",
      "63   Porites compressa         FALSE\n",
      "64  Montipora capitata         FALSE\n",
      "65   Porites compressa         FALSE\n",
      "66  Montipora capitata         FALSE\n",
      "67   Porites compressa         FALSE\n",
      "68  Montipora capitata         FALSE\n",
      "69   Porites compressa         FALSE\n",
      "70  Montipora capitata          TRUE\n",
      "71   Porites compressa          TRUE\n",
      "72  Montipora capitata         FALSE\n",
      "73      Porites lobata         FALSE\n",
      "74   Porites compressa         FALSE\n",
      "75      Porites lobata         FALSE\n",
      "76   Porites compressa         FALSE\n",
      "77   Porites compressa         FALSE\n",
      "78  Montipora capitata         FALSE\n",
      "79   Porites compressa         FALSE\n",
      "80  Montipora capitata         FALSE\n",
      "81      Porites lobata         FALSE\n",
      "82  Montipora capitata         FALSE\n",
      "83      Porites lobata         FALSE\n",
      "84   Porites compressa         FALSE\n",
      "85   Porites compressa         FALSE\n",
      "86      Porites lobata         FALSE\n",
      "87  Montipora capitata         FALSE\n",
      "88  Montipora capitata         FALSE\n",
      "89  Montipora capitata         FALSE\n",
      "90   Porites compressa         FALSE\n",
      "91   Porites compressa         FALSE\n",
      "92      Porites lobata         FALSE\n",
      "93      Porites lobata         FALSE\n",
      "94  Montipora capitata         FALSE\n",
      "95      Porites lobata         FALSE\n",
      "96  Montipora capitata         FALSE\n",
      "97  Montipora capitata         FALSE\n",
      "98   Porites compressa         FALSE\n",
      "99   Porites compressa         FALSE\n",
      "100 Montipora capitata          TRUE\n"
     ]
    }
   ],
   "source": [
    "coral_df = data.frame(coral_pop, health_status)\n",
    "print(coral_df)\n"
   ]
  },
  {
   "cell_type": "code",
   "execution_count": 56,
   "id": "9d637ee8",
   "metadata": {},
   "outputs": [
    {
     "ename": "ERROR",
     "evalue": "Error in as_tibble(coral_df): could not find function \"as_tibble\"\n",
     "output_type": "error",
     "traceback": [
      "Error in as_tibble(coral_df): could not find function \"as_tibble\"\nTraceback:\n"
     ]
    }
   ],
   "source": [
    "coral_health_tbl= as_tibble(coral_df)\n",
    "print(coral_health_tbl)\n"
   ]
  },
  {
   "cell_type": "markdown",
   "id": "dacc2558",
   "metadata": {},
   "source": [
    "### Q3\n",
    "\n",
    "* Create a new column in `coral_health_tbl` called `coral_cover`\n",
    "* This column represents coral cover values for the corals observed in your tibble\n",
    "\n",
    "* For the healthy coral (`health_status = TRUE`), sample the cover values from a normal with mean 9 and std of 2\n",
    "* For the diseased corals (`health_status = TRUE`), sample the cover values from a normal with mean 1 and std of 3\n",
    "* Note that this is a perfect scenario for using `mapply`"
   ]
  },
  {
   "cell_type": "code",
   "execution_count": 27,
   "id": "f6b58424",
   "metadata": {},
   "outputs": [],
   "source": [
    "# Write you answer here and use more cell if needed\n"
   ]
  },
  {
   "cell_type": "raw",
   "id": "be4d3193",
   "metadata": {},
   "source": [
    "rnorm(1, mean=9, std=2) \n",
    "\n",
    "#mean=location\n",
    "#std= how wide it is \n"
   ]
  },
  {
   "cell_type": "code",
   "execution_count": 34,
   "id": "f3a921b4",
   "metadata": {},
   "outputs": [],
   "source": [
    "return_cover = function(x){\n",
    "    if(x==TRUE){\n",
    "        rnorm(1, mean=1, sd=3)\n",
    "    }else{\n",
    "        rnorm(1,mean=9, sd=2)\n",
    "        \n",
    "        }\n",
    "}\n",
    "return_cover(TRUE)\n",
    "return_cover(FALSE)"
   ]
  },
  {
   "cell_type": "code",
   "execution_count": 35,
   "id": "4b16951e",
   "metadata": {},
   "outputs": [
    {
     "data": {
      "text/html": [
       "-0.639457968777097"
      ],
      "text/latex": [
       "-0.639457968777097"
      ],
      "text/markdown": [
       "-0.639457968777097"
      ],
      "text/plain": [
       "[1] -0.639458"
      ]
     },
     "metadata": {},
     "output_type": "display_data"
    }
   ],
   "source": [
    "return_cover(TRUE)"
   ]
  },
  {
   "cell_type": "code",
   "execution_count": 36,
   "id": "a3e0df48",
   "metadata": {},
   "outputs": [
    {
     "data": {
      "text/html": [
       "7.5139502950748"
      ],
      "text/latex": [
       "7.5139502950748"
      ],
      "text/markdown": [
       "7.5139502950748"
      ],
      "text/plain": [
       "[1] 7.51395"
      ]
     },
     "metadata": {},
     "output_type": "display_data"
    },
    {
     "data": {
      "text/html": [
       "13.0581492274839"
      ],
      "text/latex": [
       "13.0581492274839"
      ],
      "text/markdown": [
       "13.0581492274839"
      ],
      "text/plain": [
       "[1] 13.05815"
      ]
     },
     "metadata": {},
     "output_type": "display_data"
    },
    {
     "data": {
      "text/html": [
       "-2.27609885436752"
      ],
      "text/latex": [
       "-2.27609885436752"
      ],
      "text/markdown": [
       "-2.27609885436752"
      ],
      "text/plain": [
       "[1] -2.276099"
      ]
     },
     "metadata": {},
     "output_type": "display_data"
    },
    {
     "data": {
      "text/html": [
       "0.358257441268445"
      ],
      "text/latex": [
       "0.358257441268445"
      ],
      "text/markdown": [
       "0.358257441268445"
      ],
      "text/plain": [
       "[1] 0.3582574"
      ]
     },
     "metadata": {},
     "output_type": "display_data"
    }
   ],
   "source": [
    "return_cover(FALSE)\n",
    "return_cover(FALSE)\n",
    "return_cover(TRUE)\n",
    "return_cover(TRUE)"
   ]
  },
  {
   "cell_type": "code",
   "execution_count": null,
   "id": "780c9714",
   "metadata": {},
   "outputs": [],
   "source": [
    "#mappy takes a list of inputs and calls that function with the lsit of inputs \n",
    "# if there are values:\n",
    "\n",
    "#(c(11.3,15.2,15.7)\n",
    "# round(x,2)\n",
    "# round could be limited \n",
    " \n",
    "# mapply(round,x)\n"
   ]
  },
  {
   "cell_type": "code",
   "execution_count": 37,
   "id": "72ff47e5",
   "metadata": {},
   "outputs": [],
   "source": [
    "coral_cover = mapply(return_cover, health_status)"
   ]
  },
  {
   "cell_type": "code",
   "execution_count": 27,
   "id": "f972f246",
   "metadata": {
    "scrolled": true
   },
   "outputs": [
    {
     "name": "stdout",
     "output_type": "stream",
     "text": [
      "             coral_pop health_status coral_cover\n",
      "1    Porites compressa         FALSE  10.9257742\n",
      "2       Porites lobata         FALSE  11.9430232\n",
      "3       Porites lobata         FALSE  11.2744583\n",
      "4    Porites compressa          TRUE   3.4934389\n",
      "5   Montipora capitata          TRUE   3.4645042\n",
      "6    Porites compressa          TRUE  -0.3000932\n",
      "7    Porites compressa         FALSE  10.2473225\n",
      "8    Porites compressa         FALSE  10.6012596\n",
      "9       Porites lobata         FALSE   7.0690505\n",
      "10   Porites compressa         FALSE   7.0885669\n",
      "11   Porites compressa         FALSE   8.9057812\n",
      "12   Porites compressa         FALSE   8.1301428\n",
      "13   Porites compressa          TRUE   3.4286324\n",
      "14  Montipora capitata          TRUE  -3.0312839\n",
      "15  Montipora capitata         FALSE   7.1371425\n",
      "16   Porites compressa         FALSE   8.2567821\n",
      "17      Porites lobata         FALSE   8.4487538\n",
      "18   Porites compressa         FALSE  10.3026199\n",
      "19   Porites compressa         FALSE   9.8309408\n",
      "20  Montipora capitata         FALSE   9.9459495\n",
      "21  Montipora capitata         FALSE  10.2186795\n",
      "22  Montipora capitata         FALSE  10.0029255\n",
      "23  Montipora capitata         FALSE   8.8686359\n",
      "24   Porites compressa          TRUE   3.4158406\n",
      "25      Porites lobata         FALSE   6.9444090\n",
      "26   Porites compressa         FALSE   9.1088563\n",
      "27      Porites lobata         FALSE  10.8396103\n",
      "28      Porites lobata         FALSE   9.2850014\n",
      "29      Porites lobata         FALSE   9.4690588\n",
      "30   Porites compressa         FALSE   5.7980635\n",
      "31      Porites lobata         FALSE   9.4922490\n",
      "32   Porites compressa         FALSE   4.9541693\n",
      "33  Montipora capitata         FALSE   7.9882202\n",
      "34  Montipora capitata         FALSE   9.0176628\n",
      "35   Porites compressa         FALSE  11.4178936\n",
      "36      Porites lobata         FALSE   9.8238888\n",
      "37      Porites lobata         FALSE  12.1273827\n",
      "38      Porites lobata         FALSE   7.9002198\n",
      "39   Porites compressa         FALSE   9.5747560\n",
      "40   Porites compressa         FALSE  10.7055732\n",
      "41  Montipora capitata         FALSE  11.1355828\n",
      "42      Porites lobata         FALSE   7.9087918\n",
      "43   Porites compressa         FALSE   9.6656659\n",
      "44   Porites compressa         FALSE   8.3059061\n",
      "45      Porites lobata         FALSE   8.0671417\n",
      "46   Porites compressa         FALSE  10.8609444\n",
      "47  Montipora capitata         FALSE   9.5350142\n",
      "48  Montipora capitata         FALSE  10.2015122\n",
      "49   Porites compressa         FALSE   7.4644634\n",
      "50      Porites lobata         FALSE   8.0640047\n",
      "51      Porites lobata         FALSE   9.2249084\n",
      "52   Porites compressa         FALSE  14.1177133\n",
      "53   Porites compressa          TRUE   3.7996232\n",
      "54   Porites compressa         FALSE   9.2363548\n",
      "55      Porites lobata          TRUE  -0.7786699\n",
      "56      Porites lobata         FALSE   8.5747494\n",
      "57  Montipora capitata          TRUE  -1.4530501\n",
      "58   Porites compressa         FALSE  10.8231997\n",
      "59      Porites lobata         FALSE   9.3263297\n",
      "60      Porites lobata          TRUE   0.7613584\n",
      "61   Porites compressa          TRUE  -3.1518301\n",
      "62  Montipora capitata         FALSE  11.3819519\n",
      "63   Porites compressa         FALSE  11.9857336\n",
      "64   Porites compressa         FALSE   7.2940153\n",
      "65  Montipora capitata          TRUE  -0.8890486\n",
      "66  Montipora capitata          TRUE  -3.5463512\n",
      "67   Porites compressa         FALSE   7.7242138\n",
      "68   Porites compressa         FALSE   9.6028422\n",
      "69   Porites compressa         FALSE   7.4223468\n",
      "70      Porites lobata          TRUE   1.2654358\n",
      "71   Porites compressa          TRUE   1.8290475\n",
      "72   Porites compressa         FALSE   5.3801617\n",
      "73      Porites lobata         FALSE  10.1044036\n",
      "74      Porites lobata         FALSE   6.4530768\n",
      "75      Porites lobata         FALSE  10.2821433\n",
      "76   Porites compressa         FALSE  10.1838080\n",
      "77  Montipora capitata         FALSE  10.5987410\n",
      "78  Montipora capitata         FALSE   8.9752083\n",
      "79      Porites lobata         FALSE   6.0619905\n",
      "80  Montipora capitata         FALSE   9.3093665\n",
      "81   Porites compressa         FALSE   8.3518536\n",
      "82  Montipora capitata         FALSE   5.9251535\n",
      "83  Montipora capitata          TRUE  -4.5943704\n",
      "84   Porites compressa         FALSE   8.7570715\n",
      "85  Montipora capitata         FALSE   6.1140347\n",
      "86      Porites lobata          TRUE   3.1283382\n",
      "87  Montipora capitata         FALSE   9.4394813\n",
      "88  Montipora capitata          TRUE   0.3928051\n",
      "89   Porites compressa         FALSE   9.2953381\n",
      "90  Montipora capitata         FALSE  11.2134229\n",
      "91      Porites lobata         FALSE  10.2912521\n",
      "92      Porites lobata         FALSE   9.0669886\n",
      "93   Porites compressa         FALSE   6.8301556\n",
      "94   Porites compressa         FALSE   6.0444909\n",
      "95  Montipora capitata         FALSE   9.8033274\n",
      "96  Montipora capitata         FALSE  11.4315730\n",
      "97   Porites compressa         FALSE  11.9412156\n",
      "98      Porites lobata         FALSE   6.8113348\n",
      "99   Porites compressa          TRUE   4.1077820\n",
      "100 Montipora capitata         FALSE  10.0371208\n"
     ]
    }
   ],
   "source": [
    "coral_df$coral_cover = coral_cover\n",
    "print(coral_df)\n"
   ]
  },
  {
   "cell_type": "code",
   "execution_count": null,
   "id": "4e1426de",
   "metadata": {},
   "outputs": [],
   "source": [
    "# Q4\n",
    "\n",
    "* Add another column called `binary_health_status`.\n",
    " * set the column to 0 if `health_status == FALSE`\n",
    " * set the column to 1 if `health_status == TRUE`\n",
    "\n",
    "* A trick here is to remember that:\n",
    "  1. Corecing (converting) a logical can be done with `as.integer()`\n",
    "  2. `as.integer(TRUE)` returns 1\n",
    "  3. `as.integer(FALSE)` returns 0\n",
    "\n",
    "\n"
   ]
  },
  {
   "cell_type": "code",
   "execution_count": 1,
   "id": "ae73066b",
   "metadata": {},
   "outputs": [
    {
     "data": {
      "text/html": [
       "1"
      ],
      "text/latex": [
       "1"
      ],
      "text/markdown": [
       "1"
      ],
      "text/plain": [
       "[1] 1"
      ]
     },
     "metadata": {},
     "output_type": "display_data"
    },
    {
     "data": {
      "text/html": [
       "0"
      ],
      "text/latex": [
       "0"
      ],
      "text/markdown": [
       "0"
      ],
      "text/plain": [
       "[1] 0"
      ]
     },
     "metadata": {},
     "output_type": "display_data"
    }
   ],
   "source": [
    "as.integer(TRUE)\n",
    "as.integer(FALSE)"
   ]
  },
  {
   "cell_type": "code",
   "execution_count": null,
   "id": "afc60c1b",
   "metadata": {},
   "outputs": [],
   "source": [
    "#common when doing stats tests, stats tests are applied on numbers, can also use factors "
   ]
  },
  {
   "cell_type": "code",
   "execution_count": 57,
   "id": "645fb39c",
   "metadata": {},
   "outputs": [],
   "source": [
    "binary_health_return = function(x){\n",
    "    if( x == TRUE){\n",
    "        as.integer(TRUE)\n",
    "    }else{\n",
    "        as.integer(FALSE)\n",
    "    }\n",
    "}\n",
    "\n"
   ]
  },
  {
   "cell_type": "code",
   "execution_count": 58,
   "id": "e4ce3621",
   "metadata": {},
   "outputs": [
    {
     "data": {
      "text/html": [
       "1"
      ],
      "text/latex": [
       "1"
      ],
      "text/markdown": [
       "1"
      ],
      "text/plain": [
       "[1] 1"
      ]
     },
     "metadata": {},
     "output_type": "display_data"
    },
    {
     "data": {
      "text/html": [
       "0"
      ],
      "text/latex": [
       "0"
      ],
      "text/markdown": [
       "0"
      ],
      "text/plain": [
       "[1] 0"
      ]
     },
     "metadata": {},
     "output_type": "display_data"
    }
   ],
   "source": [
    "binary_health_return(TRUE)\n",
    "binary_health_return(FALSE)"
   ]
  },
  {
   "cell_type": "code",
   "execution_count": null,
   "id": "148150d1",
   "metadata": {},
   "outputs": [],
   "source": [
    "temp_column= sapply(coral_health_tbl$health_status, as.integer)"
   ]
  },
  {
   "cell_type": "code",
   "execution_count": 59,
   "id": "3db19f06",
   "metadata": {},
   "outputs": [],
   "source": [
    "binary_health_status = mapply(binary_health_return, health_status)"
   ]
  },
  {
   "cell_type": "code",
   "execution_count": 60,
   "id": "a99c7d57",
   "metadata": {},
   "outputs": [
    {
     "name": "stdout",
     "output_type": "stream",
     "text": [
      "             coral_pop health_status binary_health_status\n",
      "1    Porites compressa         FALSE                    0\n",
      "2   Montipora capitata         FALSE                    0\n",
      "3   Montipora capitata         FALSE                    0\n",
      "4    Porites compressa          TRUE                    1\n",
      "5   Montipora capitata         FALSE                    0\n",
      "6    Porites compressa         FALSE                    0\n",
      "7       Porites lobata          TRUE                    1\n",
      "8    Porites compressa         FALSE                    0\n",
      "9       Porites lobata          TRUE                    1\n",
      "10  Montipora capitata         FALSE                    0\n",
      "11      Porites lobata         FALSE                    0\n",
      "12      Porites lobata         FALSE                    0\n",
      "13   Porites compressa         FALSE                    0\n",
      "14      Porites lobata          TRUE                    1\n",
      "15      Porites lobata         FALSE                    0\n",
      "16      Porites lobata         FALSE                    0\n",
      "17  Montipora capitata         FALSE                    0\n",
      "18      Porites lobata          TRUE                    1\n",
      "19      Porites lobata         FALSE                    0\n",
      "20      Porites lobata         FALSE                    0\n",
      "21  Montipora capitata         FALSE                    0\n",
      "22  Montipora capitata         FALSE                    0\n",
      "23   Porites compressa         FALSE                    0\n",
      "24   Porites compressa          TRUE                    1\n",
      "25  Montipora capitata         FALSE                    0\n",
      "26  Montipora capitata          TRUE                    1\n",
      "27      Porites lobata         FALSE                    0\n",
      "28      Porites lobata          TRUE                    1\n",
      "29  Montipora capitata          TRUE                    1\n",
      "30   Porites compressa          TRUE                    1\n",
      "31      Porites lobata         FALSE                    0\n",
      "32      Porites lobata         FALSE                    0\n",
      "33  Montipora capitata         FALSE                    0\n",
      "34      Porites lobata         FALSE                    0\n",
      "35      Porites lobata         FALSE                    0\n",
      "36      Porites lobata         FALSE                    0\n",
      "37  Montipora capitata         FALSE                    0\n",
      "38  Montipora capitata         FALSE                    0\n",
      "39   Porites compressa         FALSE                    0\n",
      "40   Porites compressa          TRUE                    1\n",
      "41   Porites compressa          TRUE                    1\n",
      "42  Montipora capitata         FALSE                    0\n",
      "43   Porites compressa         FALSE                    0\n",
      "44   Porites compressa         FALSE                    0\n",
      "45      Porites lobata         FALSE                    0\n",
      "46  Montipora capitata          TRUE                    1\n",
      "47   Porites compressa         FALSE                    0\n",
      "48      Porites lobata         FALSE                    0\n",
      "49      Porites lobata         FALSE                    0\n",
      "50   Porites compressa         FALSE                    0\n",
      "51      Porites lobata         FALSE                    0\n",
      "52  Montipora capitata         FALSE                    0\n",
      "53      Porites lobata         FALSE                    0\n",
      "54      Porites lobata         FALSE                    0\n",
      "55      Porites lobata         FALSE                    0\n",
      "56      Porites lobata          TRUE                    1\n",
      "57  Montipora capitata          TRUE                    1\n",
      "58   Porites compressa          TRUE                    1\n",
      "59      Porites lobata         FALSE                    0\n",
      "60  Montipora capitata         FALSE                    0\n",
      "61  Montipora capitata         FALSE                    0\n",
      "62      Porites lobata         FALSE                    0\n",
      "63   Porites compressa         FALSE                    0\n",
      "64  Montipora capitata         FALSE                    0\n",
      "65   Porites compressa         FALSE                    0\n",
      "66  Montipora capitata         FALSE                    0\n",
      "67   Porites compressa         FALSE                    0\n",
      "68  Montipora capitata         FALSE                    0\n",
      "69   Porites compressa         FALSE                    0\n",
      "70  Montipora capitata          TRUE                    1\n",
      "71   Porites compressa          TRUE                    1\n",
      "72  Montipora capitata         FALSE                    0\n",
      "73      Porites lobata         FALSE                    0\n",
      "74   Porites compressa         FALSE                    0\n",
      "75      Porites lobata         FALSE                    0\n",
      "76   Porites compressa         FALSE                    0\n",
      "77   Porites compressa         FALSE                    0\n",
      "78  Montipora capitata         FALSE                    0\n",
      "79   Porites compressa         FALSE                    0\n",
      "80  Montipora capitata         FALSE                    0\n",
      "81      Porites lobata         FALSE                    0\n",
      "82  Montipora capitata         FALSE                    0\n",
      "83      Porites lobata         FALSE                    0\n",
      "84   Porites compressa         FALSE                    0\n",
      "85   Porites compressa         FALSE                    0\n",
      "86      Porites lobata         FALSE                    0\n",
      "87  Montipora capitata         FALSE                    0\n",
      "88  Montipora capitata         FALSE                    0\n",
      "89  Montipora capitata         FALSE                    0\n",
      "90   Porites compressa         FALSE                    0\n",
      "91   Porites compressa         FALSE                    0\n",
      "92      Porites lobata         FALSE                    0\n",
      "93      Porites lobata         FALSE                    0\n",
      "94  Montipora capitata         FALSE                    0\n",
      "95      Porites lobata         FALSE                    0\n",
      "96  Montipora capitata         FALSE                    0\n",
      "97  Montipora capitata         FALSE                    0\n",
      "98   Porites compressa         FALSE                    0\n",
      "99   Porites compressa         FALSE                    0\n",
      "100 Montipora capitata          TRUE                    1\n"
     ]
    }
   ],
   "source": [
    "coral_df$binary_health_status = binary_health_status\n",
    "print(coral_df)\n"
   ]
  },
  {
   "cell_type": "markdown",
   "id": "3dba1155",
   "metadata": {},
   "source": []
  },
  {
   "cell_type": "code",
   "execution_count": null,
   "id": "7925f89f",
   "metadata": {},
   "outputs": [],
   "source": [
    "### Q5\n",
    "\n",
    "* Plot the distribution of `coral_cover` for healthy versus diseased corals\n",
    "* Note that I am using a histogram `geom`\n",
    "  * Histograms need only a `x` axis because the `y` is computed (count)\n",
    "    * However, instead of a raw count, we want a normalized count. You can normalize the count by setting `y = stat(count / sum(count))`  \n",
    "  * I am coloring the bin outlines in black and filling in grey for disease and white for healthy\n",
    "  * I am using `binwidth=1'.\n",
    "* use the `labs` function to add a title and to change the labels for the `x` and `y` axes\n",
    "* The plot should look like the following\n",
    "![](https://www.dropbox.com/s/wdbdj05rd50vb0k/healthy-diseased.png?dl=1)"
   ]
  },
  {
   "cell_type": "code",
   "execution_count": null,
   "id": "2a1972f3",
   "metadata": {},
   "outputs": [],
   "source": [
    "#subset data for health\n",
    "#fill= a categorical variable, not a count or infinite number of possibilites \n",
    "#need x= coral cover, fill= health status \n",
    "#typora can create notes in markdown "
   ]
  },
  {
   "cell_type": "code",
   "execution_count": null,
   "id": "d3c8175f",
   "metadata": {},
   "outputs": [],
   "source": []
  },
  {
   "cell_type": "code",
   "execution_count": 61,
   "id": "23a9adff",
   "metadata": {},
   "outputs": [
    {
     "ename": "ERROR",
     "evalue": "Error in parse(text = x, srcfile = src): <text>:4:54: unexpected input\n3: ggplot(data = coral_health_tbl, mapping = aes(x = coral_cover, y = stat(count / sum(count)), fill = health_status)) +\n4:   geom_histogram(binwidth = 1, alpha = 0.5, colour = <e2>\n                                                        ^\n",
     "output_type": "error",
     "traceback": [
      "Error in parse(text = x, srcfile = src): <text>:4:54: unexpected input\n3: ggplot(data = coral_health_tbl, mapping = aes(x = coral_cover, y = stat(count / sum(count)), fill = health_status)) +\n4:   geom_histogram(binwidth = 1, alpha = 0.5, colour = <e2>\n                                                        ^\nTraceback:\n"
     ]
    }
   ],
   "source": [
    "# Write you answer here and use more cell if needed\n",
    "coral_health_tbl+ \n",
    "ggplot(data = coral_health_tbl, mapping = aes(x = coral_cover, y = stat(count / sum(count)), fill = health_status),\n",
    " binwidth = 1, alpha = 0.5, colour = “Black”)\n",
    "  labs(title = “Total coral coverage (healthy vs. diseased)“, xlab = “Coral cover”, ylab = “Normalized proportion”)"
   ]
  },
  {
   "cell_type": "markdown",
   "id": "5a9538df",
   "metadata": {},
   "source": [
    "### Q6.\n",
    "\n",
    "* Repeat the plot above by highlighting the distribution per species\n",
    "* I am using `geom_density`\n",
    "  * set the `adjust` param of `geom_density` to `2`\n",
    "* Change the `xlim` scale so that we can see the edges of the curves\n",
    "  * I.e., curves should not be cutoff\n"
   ]
  },
  {
   "cell_type": "code",
   "execution_count": 5,
   "id": "4839415e",
   "metadata": {},
   "outputs": [],
   "source": [
    "# Write you answer here and use more cell if needed\n",
    "ggplot(data = coral_health_tbl, mapping = aes(x = coral_cover, y = stat(count / sum(count)), fill = health_status, xlim = -2.5, 15)) +\n",
    "  geom_histogram(binwidth = 1, alpha = 0.5, colour = “Black”) +\n",
    "  labs(title = “Total coral coverage (healthy vs. diseased)“, xlab = “Coral cover”, ylab = “Normalized proportion”) +\n",
    "  geom_density(alpha = .5, fill = “Red”, adjust = 2)\n"
   ]
  },
  {
   "cell_type": "code",
   "execution_count": null,
   "id": "2ec3c607",
   "metadata": {},
   "outputs": [],
   "source": [
    "ggplot(coral_health_tbl) +\n",
    "    geom_density"
   ]
  },
  {
   "cell_type": "markdown",
   "id": "784fa644",
   "metadata": {},
   "source": [
    "### Q6 -- Challenge\n",
    "\n",
    "\n",
    "Recall problem `8` in the airquality dataset.\n",
    "  * Remember that you can import that dataset using `data(airquality)`\n",
    "1. Convert the `airquality` dataframe to a tibble called `airq_tbl`\n",
    "2. Replace the missing values for Solar.R using that month's average.\n",
    "    * Example:\n",
    "        * The missing value for line 6 in `airq_tbl`should be replaced with the average for month 5.\n",
    "        * The missing value for line 97 in `airq_tbl` should be replaced with the average for month 8.\n",
    "\n",
    "* Strategy:\n",
    "  1. Compute the average values for months 5, 6, 7, 8, and 9 in a names vector called `monthly_avg_SolarR`\n",
    "      * monthly_avg_SolarR[5] should return the average for May.\n",
    "      * monthly_avg_SolarR[6] should return the average for June.\n",
    "      * etc.\n",
    "      * This is an ideal use case for `tapply` with `na.rm=TRUE` (ask me!)\n",
    "  2. for each line of airq_tbl check value of Solar.R and do:\n",
    "    * if value is not `na`, return the value\n",
    "    * if value if `na`; return avg associated with `Month`\n",
    "    * This is an ideal case for `apply`\n",
    "      * You need to write your own function (call it `fix_missing_solar_R`)\n",
    "      * Recall that the argument to that function is a complete row as a vector!\n",
    "    * test your function with the following line to make sure it's working\n",
    "    ```fix_missing_solar_R(airq_tbl[5,])```"
   ]
  },
  {
   "cell_type": "code",
   "execution_count": 7,
   "id": "37af68e4",
   "metadata": {},
   "outputs": [],
   "source": [
    "# Write you answer here and use more cell if needed \n",
    "# you most likely will need more cells to structure such a multi-step answer\n",
    "\n",
    "Hi "
   ]
  }
 ],
 "metadata": {
  "kernelspec": {
   "display_name": "R",
   "language": "R",
   "name": "ir"
  },
  "language_info": {
   "codemirror_mode": "r",
   "file_extension": ".r",
   "mimetype": "text/x-r-source",
   "name": "R",
   "pygments_lexer": "r",
   "version": "3.6.1"
  }
 },
 "nbformat": 4,
 "nbformat_minor": 5
}
